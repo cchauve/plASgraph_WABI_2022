{
 "cells": [
  {
   "cell_type": "code",
   "execution_count": 2,
   "metadata": {},
   "outputs": [],
   "source": [
    "import shutil\n",
    "\n",
    "from glob import glob\n",
    "\n",
    "import matplotlib.pyplot as plt\n",
    "import numpy as np\n",
    "import pandas as pd\n",
    "\n",
    "import matplotlib as mpl\n",
    "\n",
    "mpl.rcParams[\"axes.spines.right\"] = False\n",
    "mpl.rcParams[\"axes.spines.top\"] = False\n"
   ]
  },
  {
   "cell_type": "code",
   "execution_count": 4,
   "metadata": {},
   "outputs": [],
   "source": [
    "species = \"c_freundii\"\n",
    "\n",
    "# C freundii has no plasmids > 1000 kb\n",
    "plasmid_cut_off = 1000000\n"
   ]
  },
  {
   "cell_type": "code",
   "execution_count": 3,
   "metadata": {},
   "outputs": [],
   "source": [
    "plt.rc(\"font\", size=16)\n",
    "plt.rc(\"axes\", titlesize=16)\n",
    "plt.rc(\"axes\", labelsize=16)\n",
    "plt.rc(\"xtick\", labelsize=16)\n",
    "plt.rc(\"ytick\", labelsize=16)\n",
    "plt.rc(\"legend\", fontsize=16)\n",
    "plt.rc(\"figure\", titlesize=16)\n"
   ]
  },
  {
   "cell_type": "markdown",
   "metadata": {},
   "source": [
    "get contig information from __hybrid assembly__"
   ]
  },
  {
   "cell_type": "code",
   "execution_count": 4,
   "metadata": {},
   "outputs": [],
   "source": [
    "assembly_fasta_files = glob(\"../data/hybrid_assembly_fasta_files/\" + species + \"/*\")\n"
   ]
  },
  {
   "cell_type": "code",
   "execution_count": 5,
   "metadata": {},
   "outputs": [],
   "source": [
    "dict_isolate_dict_contig_information = {}\n",
    "\n",
    "for assembly_fasta_file in assembly_fasta_files:\n",
    "\n",
    "    isolate = \"_\".join(assembly_fasta_file.split(\"\\\\\")[-1].split(\"_\")[0:-1])\n",
    "\n",
    "    temp_file = open(assembly_fasta_file, \"r\")\n",
    "    lines = temp_file.readlines()\n",
    "    temp_file.close()\n",
    "\n",
    "    # labelling:\n",
    "    # contig length > plasmid_cut_off and circular --> chromosome\n",
    "    # contig length <= plasmid_cut_off and circular --> plasmid\n",
    "\n",
    "    dict_contig_length_circular_label = {}\n",
    "\n",
    "    for line in lines:\n",
    "        if line.startswith(\">\"):\n",
    "            contig = line[1:].split()[0]\n",
    "            length = int(line.split()[1].split(\"=\")[1])\n",
    "            circular = \"circular=true\" in line\n",
    "\n",
    "            if length > plasmid_cut_off:\n",
    "                label = \"chromosome\"\n",
    "            elif length <= plasmid_cut_off and circular:\n",
    "                label = \"plasmid\"\n",
    "            else:\n",
    "                label = \"no_label\"\n",
    "\n",
    "            dict_contig_length_circular_label[int(contig)] = (length, circular, label)\n",
    "\n",
    "    dict_isolate_dict_contig_information[isolate] = dict_contig_length_circular_label\n"
   ]
  },
  {
   "cell_type": "markdown",
   "metadata": {},
   "source": [
    "Draw distribution of circular contigs in __hybrid assembly__"
   ]
  },
  {
   "cell_type": "code",
   "execution_count": 6,
   "metadata": {},
   "outputs": [],
   "source": [
    "num_circular_contigs = []\n",
    "for isolate in dict_isolate_dict_contig_information:\n",
    "    circular_contigs = len(\n",
    "        [\n",
    "            key\n",
    "            for key in dict_isolate_dict_contig_information[isolate]\n",
    "            if dict_isolate_dict_contig_information[isolate][key][1] == True\n",
    "        ]\n",
    "    )\n",
    "    # print(isolate, \"circular hybrid contigs:\", circular_contigs)\n",
    "    num_circular_contigs.append(circular_contigs)\n"
   ]
  },
  {
   "cell_type": "code",
   "execution_count": 7,
   "metadata": {},
   "outputs": [
    {
     "data": {
      "image/png": "[encoded data removed]",
      "text/plain": [
       "<Figure size 432x288 with 1 Axes>"
      ]
     },
     "metadata": {
      "needs_background": "light"
     },
     "output_type": "display_data"
    }
   ],
   "source": [
    "max_circular_contigs = max(num_circular_contigs)\n",
    "\n",
    "plt.hist(\n",
    "    num_circular_contigs,\n",
    "    alpha=0.8,\n",
    "    bins=np.arange(-0.5, max_circular_contigs + 2.5, 1),\n",
    "    color=\"darkslategrey\",\n",
    ")\n",
    "\n",
    "plt.title(\"Distribution of circular contigs\")\n",
    "plt.xlabel(\"number of circular contigs\")\n",
    "plt.ylabel(\"number of isolates\")\n",
    "plt.savefig(\n",
    "    \"../results/figures/\"\n",
    "    + species\n",
    "    + \"_distribution_of_circular_contigs_in_hybrid_assembly.png\",\n",
    "    dpi=600,\n",
    "    format=\"png\",\n",
    "    bbox_inches=\"tight\",\n",
    ")\n",
    "plt.show()\n",
    "plt.clf()\n",
    "plt.close()\n"
   ]
  },
  {
   "cell_type": "code",
   "execution_count": 8,
   "metadata": {},
   "outputs": [],
   "source": [
    "circular_contig_lengths = []\n",
    "\n",
    "for isolate in dict_isolate_dict_contig_information:\n",
    "    for contig in dict_isolate_dict_contig_information[isolate]:\n",
    "        if dict_isolate_dict_contig_information[isolate][contig][1] == True:\n",
    "            circular_contig_lengths.append(\n",
    "                dict_isolate_dict_contig_information[isolate][contig][0]\n",
    "            )\n"
   ]
  },
  {
   "cell_type": "code",
   "execution_count": 9,
   "metadata": {},
   "outputs": [
    {
     "name": "stdout",
     "output_type": "stream",
     "text": [
      "longest circular contig in bp: 5359578\n"
     ]
    }
   ],
   "source": [
    "max_circular_contig_length = max(circular_contig_lengths)\n",
    "print(\"longest circular contig in bp:\", max_circular_contig_length)\n"
   ]
  },
  {
   "cell_type": "code",
   "execution_count": 10,
   "metadata": {},
   "outputs": [
    {
     "data": {
      "image/png": "[encoded data removed]",
      "text/plain": [
       "<Figure size 432x288 with 1 Axes>"
      ]
     },
     "metadata": {
      "needs_background": "light"
     },
     "output_type": "display_data"
    }
   ],
   "source": [
    "plt.hist(\n",
    "    circular_contig_lengths,\n",
    "    alpha=0.8,\n",
    "    bins=np.arange(0, max_circular_contig_length + 100000, 50000),\n",
    "    color=\"darkslategrey\",\n",
    ")\n",
    "plt.plot([plasmid_cut_off, plasmid_cut_off], [0, 60], \"--\", c=\"black\", alpha=0.7)\n",
    "\n",
    "plt.title(\n",
    "    \"Size distribution of circular contigs (\" + str(len(circular_contig_lengths)) + \")\"\n",
    ")\n",
    "plt.ylim(0, 60)\n",
    "plt.xlabel(\"contig length [Mbp]\")\n",
    "plt.ylabel(\"number of contigs\")\n",
    "plt.savefig(\n",
    "    \"../results/figures/\" + species + \"_size_distribution_of_circular_contigs.png\",\n",
    "    dpi=600,\n",
    "    format=\"png\",\n",
    "    bbox_inches=\"tight\",\n",
    ")\n",
    "plt.show()\n",
    "plt.clf()\n",
    "plt.close()\n"
   ]
  },
  {
   "cell_type": "code",
   "execution_count": 11,
   "metadata": {},
   "outputs": [],
   "source": [
    "# plot distribution of non circular contigs\n",
    "\n",
    "non_circular_contig_lengths = []\n",
    "\n",
    "for isolate in dict_isolate_dict_contig_information:\n",
    "    for contig in dict_isolate_dict_contig_information[isolate]:\n",
    "        if dict_isolate_dict_contig_information[isolate][contig][1] == False:\n",
    "            non_circular_contig_lengths.append(\n",
    "                dict_isolate_dict_contig_information[isolate][contig][0]\n",
    "            )\n"
   ]
  },
  {
   "cell_type": "code",
   "execution_count": 12,
   "metadata": {},
   "outputs": [
    {
     "name": "stdout",
     "output_type": "stream",
     "text": [
      "longest non circular contig in bp: 5534853\n"
     ]
    }
   ],
   "source": [
    "max_non_circular_contig_length = max(non_circular_contig_lengths)\n",
    "print(\"longest non circular contig in bp:\", max_non_circular_contig_length)\n"
   ]
  },
  {
   "cell_type": "code",
   "execution_count": 13,
   "metadata": {},
   "outputs": [
    {
     "data": {
      "image/png": "[encoded data removed]",
      "text/plain": [
       "<Figure size 432x288 with 1 Axes>"
      ]
     },
     "metadata": {
      "needs_background": "light"
     },
     "output_type": "display_data"
    }
   ],
   "source": [
    "plt.hist(\n",
    "    non_circular_contig_lengths,\n",
    "    alpha=0.8,\n",
    "    bins=np.arange(0, max_non_circular_contig_length + 100000, 50000),\n",
    "    color=\"darkslategrey\",\n",
    ")\n",
    "plt.plot([plasmid_cut_off, plasmid_cut_off], [0, 10], \"--\", c=\"black\", alpha=0.7)\n",
    "\n",
    "plt.title(\n",
    "    \"Size distribution of non circular contigs (\"\n",
    "    + str(len(non_circular_contig_lengths))\n",
    "    + \")\"\n",
    ")\n",
    "plt.ylim(0, 10)\n",
    "plt.xlabel(\"contig length\")\n",
    "plt.ylabel(\"number of contigs\")\n",
    "plt.savefig(\n",
    "    \"../results/figures/\" + species + \"_size_distribution_of_non_circular_contigs.png\",\n",
    "    dpi=600,\n",
    "    format=\"png\",\n",
    "    bbox_inches=\"tight\",\n",
    ")\n",
    "plt.show()\n",
    "plt.clf()\n",
    "plt.close()\n"
   ]
  },
  {
   "cell_type": "markdown",
   "metadata": {},
   "source": [
    "Get minimap alignment information and label __short read contigs__"
   ]
  },
  {
   "cell_type": "code",
   "execution_count": 14,
   "metadata": {},
   "outputs": [],
   "source": [
    "# generate ambiguity_constant, 1 means that the contig is only ambiguous\n",
    "# if it maps with the same number of residues on plasmid and chromosome contigs.\n",
    "# 0.9 would mean that that only 90% from the maximal match has to be reached to get labelled ambiguous\n",
    "ambiguity_constant = 1\n"
   ]
  },
  {
   "cell_type": "code",
   "execution_count": 15,
   "metadata": {},
   "outputs": [],
   "source": [
    "alignment_files = glob(\"../data/alignment_files/\" + species + \"/*minimap_alignment.paf\")\n"
   ]
  },
  {
   "cell_type": "code",
   "execution_count": 16,
   "metadata": {},
   "outputs": [],
   "source": [
    "# add labels to alignment.tsv\n",
    "for alignment_file in alignment_files:\n",
    "\n",
    "    # get isolate\n",
    "    isolate = \"_\".join(alignment_file.split(\"\\\\\")[-1].split(\"_\")[0:-2])\n",
    "\n",
    "    # read df (only columns of interes)\n",
    "    df = pd.read_csv(alignment_file, sep=\"\\t\", header=None, usecols=[0, 1, 5, 6, 9])\n",
    "\n",
    "    # rename columns with minimap output column names (https://github.com/lh3/miniasm/blob/master/PAF.md)\n",
    "    df.columns = [\n",
    "        \"short_read_contig_id\",\n",
    "        \"short_read_contig_length\",\n",
    "        \"mapped_against_hybrid_contig_id\",\n",
    "        \"hybrid_contig_length\",\n",
    "        \"number_of_residue_matches\",\n",
    "    ]\n",
    "\n",
    "    # drop duplicates (same short read contig mapped to same hybrid contig)\n",
    "    df = df.drop_duplicates(\n",
    "        subset=[\"short_read_contig_id\", \"mapped_against_hybrid_contig_id\"], keep=\"first\"\n",
    "    )\n",
    "\n",
    "    # add columns to dataframe from dict\n",
    "    df[\"temp\"] = df[\"mapped_against_hybrid_contig_id\"].map(\n",
    "        dict_isolate_dict_contig_information[isolate]\n",
    "    )\n",
    "\n",
    "    # split tuple column\n",
    "    df[[\"length\", \"is_circular\", \"label\"]] = pd.DataFrame(\n",
    "        df[\"temp\"].tolist(), index=df.index\n",
    "    )\n",
    "\n",
    "    # dropt temp column\n",
    "    df = df.drop([\"temp\", \"length\"], axis=1)\n",
    "\n",
    "    # generate list of lists for df with \"ambiguous\" label\n",
    "    list_of_lists_for_new_df = []\n",
    "\n",
    "    # iterate over rows and check ambiguity of contig\n",
    "    for index, row in df.iterrows():\n",
    "        # extract information\n",
    "        short_read_contig_id = row[\"short_read_contig_id\"]\n",
    "        short_read_contig_length = row[\"short_read_contig_length\"]\n",
    "        number_of_residue_matches = row[\"number_of_residue_matches\"]\n",
    "\n",
    "        df_single_contig = df[df[\"short_read_contig_id\"] == short_read_contig_id]\n",
    "        if len(df_single_contig) == 1:\n",
    "            # only one entry - not ambiguous\n",
    "            list_of_lists_for_new_df.append(df_single_contig.iloc[0].to_list())\n",
    "        else:\n",
    "            # more than one entry - check ambiguity\n",
    "            # extract max number of matches\n",
    "            max_residue_matches = max(df_single_contig[\"number_of_residue_matches\"])\n",
    "            # extract all alignments that are ambiguous according to the ambiguity_constant\n",
    "            ambiguous_contigs_df = df_single_contig[\n",
    "                df_single_contig[\"number_of_residue_matches\"]\n",
    "                >= max_residue_matches * ambiguity_constant\n",
    "            ]\n",
    "            # extract all labels of ambiguous contigs\n",
    "            matched_labels = ambiguous_contigs_df[\"label\"].to_list()\n",
    "            # add new row to df\n",
    "            if \"chromosome\" in matched_labels and \"plasmid\" in matched_labels:\n",
    "                list_of_lists_for_new_df.append(\n",
    "                    [\n",
    "                        short_read_contig_id,\n",
    "                        short_read_contig_length,\n",
    "                        \"NA\",\n",
    "                        \"NA\",\n",
    "                        max_residue_matches,\n",
    "                        \"NA\",\n",
    "                        \"ambiguous\",\n",
    "                    ]\n",
    "                )\n",
    "            elif (\n",
    "                \"chromosome\" in matched_labels or \"plasmid\" in matched_labels\n",
    "            ) and \"no_label\" in matched_labels:\n",
    "                list_of_lists_for_new_df.append(\n",
    "                    ambiguous_contigs_df[ambiguous_contigs_df[\"label\"] == \"no_label\"]\n",
    "                    .iloc[0]\n",
    "                    .to_list()\n",
    "                )\n",
    "            else:  # take best hit\n",
    "                list_of_lists_for_new_df.append(df_single_contig.iloc[0].to_list())\n",
    "\n",
    "    # generate final df\n",
    "    cols = df.columns\n",
    "    df = pd.DataFrame(list_of_lists_for_new_df, columns=cols)\n",
    "    df = df.drop_duplicates(keep=\"first\")\n",
    "\n",
    "    # write to csv\n",
    "    df.to_csv(\n",
    "        alignment_file[:-4]\n",
    "        + \"_labelled\"\n",
    "        + \"_ambiguity_cutoff_\"\n",
    "        + str(ambiguity_constant)\n",
    "        + \".csv\",\n",
    "        index=False,\n",
    "    )\n"
   ]
  },
  {
   "cell_type": "markdown",
   "metadata": {},
   "source": [
    "Check if samples have more than 95% of contigs labelled and discard such samples"
   ]
  },
  {
   "cell_type": "code",
   "execution_count": 17,
   "metadata": {},
   "outputs": [],
   "source": [
    "labelled_alignment_files = glob(\n",
    "    \"../data/alignment_files/\"\n",
    "    + species\n",
    "    + \"/*minimap_alignment_labelled_ambiguity_cutoff_1.csv\"\n",
    ")\n"
   ]
  },
  {
   "cell_type": "code",
   "execution_count": 18,
   "metadata": {},
   "outputs": [],
   "source": [
    "isolates_to_discard = []\n",
    "\n",
    "for file_ in labelled_alignment_files:\n",
    "    df = pd.read_csv(file_)\n",
    "    if (len(df[df[\"label\"] == \"no_label\"]) / len(df)) > 0.05:\n",
    "        isolate = \"_\".join(file_.split(\"\\\\\")[-1].split(\"_\")[0:-6])\n",
    "        isolates_to_discard.append(isolate)\n",
    "        print(isolate)\n"
   ]
  },
  {
   "cell_type": "code",
   "execution_count": 19,
   "metadata": {},
   "outputs": [],
   "source": [
    "# move isolates to discarded folder\n",
    "for isolate in isolates_to_discard:\n",
    "    files_to_discard = glob(\"../data/*/\" + species + \"/\" + isolate + \"*\")\n",
    "    for file_ in files_to_discard:\n",
    "        shutil.move(file_, \"../data/discarded_files/\")\n"
   ]
  },
  {
   "cell_type": "markdown",
   "metadata": {},
   "source": [
    "Visualize distribution of labelled contigs"
   ]
  },
  {
   "cell_type": "code",
   "execution_count": 5,
   "metadata": {},
   "outputs": [],
   "source": [
    "labelled_alignment_files = glob(\n",
    "    \"../data/alignment_files/\"\n",
    "    + species\n",
    "    + \"/*minimap_alignment_labelled_ambiguity_cutoff_1.csv\"\n",
    ")\n"
   ]
  },
  {
   "cell_type": "code",
   "execution_count": 7,
   "metadata": {},
   "outputs": [
    {
     "data": {
      "image/png": "[encoded data removed]",
      "text/plain": [
       "<Figure size 288x288 with 1 Axes>"
      ]
     },
     "metadata": {
      "needs_background": "light"
     },
     "output_type": "display_data"
    }
   ],
   "source": [
    "no_label = 0\n",
    "ambiguous = 0\n",
    "chromosome = 0\n",
    "plasmid = 0\n",
    "\n",
    "no_label_length = 0\n",
    "ambiguous_length = 0\n",
    "chromosome_length = 0\n",
    "plasmid_length = 0\n",
    "\n",
    "for csv_file in labelled_alignment_files:\n",
    "\n",
    "    df = pd.read_csv(csv_file)\n",
    "\n",
    "    no_label += len(df[df[\"label\"] == \"no_label\"])\n",
    "    ambiguous += len(df[df[\"label\"] == \"ambiguous\"])\n",
    "    chromosome += len(df[df[\"label\"] == \"chromosome\"])\n",
    "    plasmid += len(df[df[\"label\"] == \"plasmid\"])\n",
    "\n",
    "    no_label_length += df[df[\"label\"] == \"no_label\"][\"short_read_contig_length\"].sum()\n",
    "    ambiguous_length += df[df[\"label\"] == \"ambiguous\"][\"short_read_contig_length\"].sum()\n",
    "    chromosome_length += df[df[\"label\"] == \"chromosome\"][\"short_read_contig_length\"].sum()\n",
    "    plasmid_length += df[df[\"label\"] == \"plasmid\"][\"short_read_contig_length\"].sum()\n",
    "\n",
    "\n",
    "total_num_contigs = no_label + ambiguous + chromosome + plasmid\n",
    "\n",
    "matrix = [[no_label, chromosome], [plasmid, ambiguous]]\n",
    "\n",
    "plt.matshow(matrix, cmap=\"GnBu\", alpha=0.7)\n",
    "\n",
    "for (i, j), z in np.ndenumerate(matrix):\n",
    "    plt.text(\n",
    "        j,\n",
    "        i,\n",
    "        str(round((z / total_num_contigs) * 100, 2)) + \"%\",\n",
    "        ha=\"center\",\n",
    "        va=\"top\",\n",
    "        fontsize=16,\n",
    "    )\n",
    "\n",
    "plt.text(0, -0.1, \"no label\", ha=\"center\", va=\"bottom\", fontsize=16)\n",
    "plt.text(0, 0.3, \"(\" + str(no_label) + \")\", ha=\"center\", va=\"bottom\", fontsize=16)\n",
    "plt.text(0, 0.5, f'{no_label_length:,}' + \" bp\", ha=\"center\", va=\"bottom\", fontsize=14)\n",
    "\n",
    "plt.text(0, 0.9, \"plasmid\", ha=\"center\", va=\"bottom\", fontsize=16)\n",
    "plt.text(0, 1.3, \"(\" + str(plasmid) + \")\", ha=\"center\", va=\"bottom\", fontsize=16)\n",
    "plt.text(0, 1.5, f'{plasmid_length:,}' + \" bp\", ha=\"center\", va=\"bottom\", fontsize=14)\n",
    "\n",
    "\n",
    "plt.text(1, -0.1, \"chromosome\", ha=\"center\", va=\"bottom\", fontsize=16)\n",
    "plt.text(1, 0.3, \"(\" + str(chromosome) + \")\", ha=\"center\", va=\"bottom\", fontsize=16)\n",
    "plt.text(1, 0.5, f'{chromosome_length:,}' + \" bp\", ha=\"center\", va=\"bottom\", fontsize=14)\n",
    "\n",
    "\n",
    "plt.text(1, 0.9, \"ambiguous\", ha=\"center\", va=\"bottom\", fontsize=16)\n",
    "plt.text(1, 1.3, \"(\" + str(ambiguous) + \")\", ha=\"center\", va=\"bottom\", fontsize=16)\n",
    "plt.text(1, 1.5, f'{ambiguous_length:,}' + \" bp\", ha=\"center\", va=\"bottom\", fontsize=14)\n",
    "\n",
    "\n",
    "plt.axis(\"off\")\n",
    "\n",
    "plt.title(species, fontsize=16)\n",
    "plt.savefig(\n",
    "    \"../results/figures/\" + species + \"_short_read_contig_label_distribution.png\",\n",
    "    dpi=600,\n",
    "    format=\"png\",\n",
    "    bbox_inches=\"tight\",\n",
    ")\n",
    "plt.show()\n",
    "plt.clf()\n",
    "plt.close()\n"
   ]
  }
 ],
 "metadata": {
  "kernelspec": {
   "display_name": "Python 3",
   "language": "python",
   "name": "python3"
  },
  "language_info": {
   "codemirror_mode": {
    "name": "ipython",
    "version": 3
   },
   "file_extension": ".py",
   "mimetype": "text/x-python",
   "name": "python",
   "nbconvert_exporter": "python",
   "pygments_lexer": "ipython3",
   "version": "3.7.4"
  }
 },
 "nbformat": 4,
 "nbformat_minor": 4
}
